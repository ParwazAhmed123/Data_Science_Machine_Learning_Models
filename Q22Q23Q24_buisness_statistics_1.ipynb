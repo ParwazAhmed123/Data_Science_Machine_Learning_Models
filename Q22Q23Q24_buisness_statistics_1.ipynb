{
 "cells": [
  {
   "cell_type": "code",
   "execution_count": 1,
   "id": "8be33e43",
   "metadata": {},
   "outputs": [],
   "source": [
    "from scipy import stats\n",
    "from scipy.stats import norm\n",
    "import pandas as pd\n",
    "import numpy as np\n",
    "import matplotlib.pyplot as plt\n",
    "import seaborn as sns\n",
    "plt.rcParams['figure.dpi'] = 150\n",
    "plt.rcParams['figure.figsize'] = (10,5)\n",
    "%matplotlib inline\n",
    "import warnings\n",
    "warnings.filterwarnings('ignore')"
   ]
  },
  {
   "cell_type": "code",
   "execution_count": 2,
   "id": "901e2eed",
   "metadata": {},
   "outputs": [
    {
     "data": {
      "text/plain": [
       "1.6448536269514722"
      ]
     },
     "execution_count": 2,
     "metadata": {},
     "output_type": "execute_result"
    }
   ],
   "source": [
    "#For 90%\n",
    "stats.norm.ppf(.95)"
   ]
  },
  {
   "cell_type": "code",
   "execution_count": 4,
   "id": "fb7d49b7",
   "metadata": {},
   "outputs": [
    {
     "data": {
      "text/plain": [
       "1.8807936081512509"
      ]
     },
     "execution_count": 4,
     "metadata": {},
     "output_type": "execute_result"
    }
   ],
   "source": [
    "#For 94%\n",
    "stats.norm.ppf(.97)"
   ]
  },
  {
   "cell_type": "code",
   "execution_count": 5,
   "id": "8f00d499",
   "metadata": {},
   "outputs": [
    {
     "data": {
      "text/plain": [
       "0.8416212335729143"
      ]
     },
     "execution_count": 5,
     "metadata": {},
     "output_type": "execute_result"
    }
   ],
   "source": [
    "#For 60%\n",
    "stats.norm.ppf(.8)"
   ]
  },
  {
   "cell_type": "code",
   "execution_count": 6,
   "id": "fa470035",
   "metadata": {},
   "outputs": [
    {
     "data": {
      "text/plain": [
       "2.0638985616280205"
      ]
     },
     "execution_count": 6,
     "metadata": {},
     "output_type": "execute_result"
    }
   ],
   "source": [
    "#For sample size 25 df =n-1 = 24 and 95% C.L\n",
    "stats.t.ppf(.975, 24)"
   ]
  },
  {
   "cell_type": "code",
   "execution_count": 7,
   "id": "cbe6d746",
   "metadata": {},
   "outputs": [
    {
     "data": {
      "text/plain": [
       "2.796939504772804"
      ]
     },
     "execution_count": 7,
     "metadata": {},
     "output_type": "execute_result"
    }
   ],
   "source": [
    "#For sample size 25 df =n-1 = 24 and 99% C.L\n",
    "stats.t.ppf(.995,24)"
   ]
  },
  {
   "cell_type": "code",
   "execution_count": 8,
   "id": "ec5b3152",
   "metadata": {},
   "outputs": [
    {
     "data": {
      "text/plain": [
       "2.1715446760080677"
      ]
     },
     "execution_count": 8,
     "metadata": {},
     "output_type": "execute_result"
    }
   ],
   "source": [
    "#For sample size 25 df =n-1 = 24 and 96% C.L\n",
    "stats.t.ppf(.98,24)"
   ]
  },
  {
   "cell_type": "code",
   "execution_count": 18,
   "id": "1148285e",
   "metadata": {},
   "outputs": [
    {
     "data": {
      "text/plain": [
       "-0.4714045207910317"
      ]
     },
     "execution_count": 18,
     "metadata": {},
     "output_type": "execute_result"
    }
   ],
   "source": [
    "'''Q24-Ho(Null Hypothesis – average life of bulbs >=260 days\n",
    "Alternate Hypothesis – average life of bulbs is < 260 days\n",
    "2)t_test Population size is not mentioned\n",
    "3)one tail test\n",
    "4)\tα=.05\n",
    "5)\tProbability Calculation\n",
    "6) Make Conclusions\n",
    "a) if p < α, Reject Ho\n",
    "b) if p > α, Fail to reject Ho\n",
    "''' \n",
    "#Tscore =X -µ/s/√n=(260-270)/90/√18\n",
    "\n",
    "t_score = (260-270)/(90/(np.sqrt(18)))\n",
    "t_score\n"
   ]
  },
  {
   "cell_type": "code",
   "execution_count": 21,
   "id": "13a14f2f",
   "metadata": {},
   "outputs": [
    {
     "data": {
      "text/plain": [
       "0.32167253567098364"
      ]
     },
     "execution_count": 21,
     "metadata": {},
     "output_type": "execute_result"
    }
   ],
   "source": [
    "#df = N-1 =17\n",
    "p = stats.t.cdf(t_score,17)\n",
    "p"
   ]
  },
  {
   "cell_type": "code",
   "execution_count": 23,
   "id": "da8ed970",
   "metadata": {},
   "outputs": [
    {
     "name": "stdout",
     "output_type": "stream",
     "text": [
      "Fail to reject Null Hypothesis. Average life of Bulb is greater than 260 Days\n"
     ]
    }
   ],
   "source": [
    "if p < 0.05:\n",
    "    print('Reject Null Hypothesis. Average life of Bulb is less than 260 Days')\n",
    "else:\n",
    "    print('Fail to reject Null Hypothesis. Average life of Bulb is greater than 260 Days')"
   ]
  },
  {
   "cell_type": "code",
   "execution_count": null,
   "id": "2084318f",
   "metadata": {},
   "outputs": [],
   "source": []
  }
 ],
 "metadata": {
  "kernelspec": {
   "display_name": "Python 3 (ipykernel)",
   "language": "python",
   "name": "python3"
  },
  "language_info": {
   "codemirror_mode": {
    "name": "ipython",
    "version": 3
   },
   "file_extension": ".py",
   "mimetype": "text/x-python",
   "name": "python",
   "nbconvert_exporter": "python",
   "pygments_lexer": "ipython3",
   "version": "3.11.3"
  }
 },
 "nbformat": 4,
 "nbformat_minor": 5
}
