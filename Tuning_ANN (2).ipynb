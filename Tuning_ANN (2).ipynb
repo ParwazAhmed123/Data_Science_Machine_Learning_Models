{
 "cells": [
  {
   "cell_type": "code",
   "execution_count": 1,
   "metadata": {
    "colab": {
     "base_uri": "https://localhost:8080/"
    },
    "id": "CveECm7qxHBw",
    "outputId": "01b19338-e6f5-4022-8cdc-a6ca118ddbd2"
   },
   "outputs": [
    {
     "name": "stdout",
     "output_type": "stream",
     "text": [
      "Collecting keras-tuner\n",
      "  Downloading keras_tuner-1.4.5-py3-none-any.whl (129 kB)\n",
      "                                              0.0/129.5 kB ? eta -:--:--\n",
      "     ---------                               30.7/129.5 kB 1.4 MB/s eta 0:00:01\n",
      "     -----------------                     61.4/129.5 kB 825.8 kB/s eta 0:00:01\n",
      "     ------------------------------------ 129.5/129.5 kB 953.8 kB/s eta 0:00:00\n",
      "Collecting keras-core (from keras-tuner)\n",
      "  Downloading keras_core-0.1.7-py3-none-any.whl (950 kB)\n",
      "                                              0.0/950.8 kB ? eta -:--:--\n",
      "     --                                      51.2/950.8 kB 2.6 MB/s eta 0:00:01\n",
      "     --                                      51.2/950.8 kB 2.6 MB/s eta 0:00:01\n",
      "     ---                                   81.9/950.8 kB 651.6 kB/s eta 0:00:02\n",
      "     -------                                194.6/950.8 kB 1.2 MB/s eta 0:00:01\n",
      "     ------------                           317.4/950.8 kB 1.5 MB/s eta 0:00:01\n",
      "     -------------                          348.2/950.8 kB 1.4 MB/s eta 0:00:01\n",
      "     --------------------                   501.8/950.8 kB 1.7 MB/s eta 0:00:01\n",
      "     ------------------------               614.4/950.8 kB 1.8 MB/s eta 0:00:01\n",
      "     ------------------------------         757.8/950.8 kB 1.9 MB/s eta 0:00:01\n",
      "     -------------------------------        798.7/950.8 kB 1.9 MB/s eta 0:00:01\n",
      "     ------------------------------------   901.1/950.8 kB 1.9 MB/s eta 0:00:01\n",
      "     -------------------------------------- 950.8/950.8 kB 1.9 MB/s eta 0:00:00\n",
      "Requirement already satisfied: packaging in c:\\users\\ahmed\\anaconda3\\lib\\site-packages (from keras-tuner) (23.0)\n",
      "Requirement already satisfied: requests in c:\\users\\ahmed\\anaconda3\\lib\\site-packages (from keras-tuner) (2.29.0)\n",
      "Collecting kt-legacy (from keras-tuner)\n",
      "  Downloading kt_legacy-1.0.5-py3-none-any.whl (9.6 kB)\n",
      "Requirement already satisfied: absl-py in c:\\users\\ahmed\\anaconda3\\lib\\site-packages (from keras-core->keras-tuner) (2.0.0)\n",
      "Requirement already satisfied: numpy in c:\\users\\ahmed\\anaconda3\\lib\\site-packages (from keras-core->keras-tuner) (1.23.5)\n",
      "Collecting rich (from keras-core->keras-tuner)\n",
      "  Downloading rich-13.6.0-py3-none-any.whl (239 kB)\n",
      "                                              0.0/239.8 kB ? eta -:--:--\n",
      "     -----------                             71.7/239.8 kB 3.8 MB/s eta 0:00:01\n",
      "     ------------------------------         194.6/239.8 kB 2.4 MB/s eta 0:00:01\n",
      "     -------------------------------------- 239.8/239.8 kB 2.9 MB/s eta 0:00:00\n",
      "Collecting namex (from keras-core->keras-tuner)\n",
      "  Downloading namex-0.0.7-py3-none-any.whl (5.8 kB)\n",
      "Requirement already satisfied: h5py in c:\\users\\ahmed\\anaconda3\\lib\\site-packages (from keras-core->keras-tuner) (3.7.0)\n",
      "Collecting dm-tree (from keras-core->keras-tuner)\n",
      "  Downloading dm_tree-0.1.8-cp311-cp311-win_amd64.whl (101 kB)\n",
      "                                              0.0/101.3 kB ? eta -:--:--\n",
      "     ---------------------------             71.7/101.3 kB 4.1 MB/s eta 0:00:01\n",
      "     -------------------------------------- 101.3/101.3 kB 2.9 MB/s eta 0:00:00\n",
      "Requirement already satisfied: charset-normalizer<4,>=2 in c:\\users\\ahmed\\anaconda3\\lib\\site-packages (from requests->keras-tuner) (2.0.4)\n",
      "Requirement already satisfied: idna<4,>=2.5 in c:\\users\\ahmed\\anaconda3\\lib\\site-packages (from requests->keras-tuner) (3.4)\n",
      "Requirement already satisfied: urllib3<1.27,>=1.21.1 in c:\\users\\ahmed\\anaconda3\\lib\\site-packages (from requests->keras-tuner) (1.26.16)\n",
      "Requirement already satisfied: certifi>=2017.4.17 in c:\\users\\ahmed\\anaconda3\\lib\\site-packages (from requests->keras-tuner) (2023.7.22)\n",
      "Requirement already satisfied: markdown-it-py>=2.2.0 in c:\\users\\ahmed\\anaconda3\\lib\\site-packages (from rich->keras-core->keras-tuner) (2.2.0)\n",
      "Requirement already satisfied: pygments<3.0.0,>=2.13.0 in c:\\users\\ahmed\\anaconda3\\lib\\site-packages (from rich->keras-core->keras-tuner) (2.15.1)\n",
      "Requirement already satisfied: mdurl~=0.1 in c:\\users\\ahmed\\anaconda3\\lib\\site-packages (from markdown-it-py>=2.2.0->rich->keras-core->keras-tuner) (0.1.0)\n",
      "Installing collected packages: namex, kt-legacy, dm-tree, rich, keras-core, keras-tuner\n",
      "Successfully installed dm-tree-0.1.8 keras-core-0.1.7 keras-tuner-1.4.5 kt-legacy-1.0.5 namex-0.0.7 rich-13.6.0\n"
     ]
    }
   ],
   "source": [
    "!pip install -U keras-tuner"
   ]
  },
  {
   "cell_type": "code",
   "execution_count": 2,
   "metadata": {
    "ExecuteTime": {
     "end_time": "2023-05-05T11:51:55.613227Z",
     "start_time": "2023-05-05T11:51:43.202687Z"
    },
    "colab": {
     "base_uri": "https://localhost:8080/"
    },
    "id": "7nJAPJ0Tb3f1",
    "outputId": "58bdb906-3193-4d68-936b-05463fb7aeea"
   },
   "outputs": [
    {
     "name": "stdout",
     "output_type": "stream",
     "text": [
      "Using TensorFlow backend\n"
     ]
    }
   ],
   "source": [
    "import pandas as pd\n",
    "import numpy as np\n",
    "import matplotlib.pyplot as plt\n",
    "from tensorflow.keras import Sequential\n",
    "import tensorflow as tf\n",
    "from tensorflow.keras.layers import Dense\n",
    "import keras_tuner as kf\n",
    "from sklearn.preprocessing import StandardScaler\n",
    "from sklearn.metrics import classification_report"
   ]
  },
  {
   "cell_type": "code",
   "execution_count": 3,
   "metadata": {
    "ExecuteTime": {
     "end_time": "2023-05-05T11:51:55.669821Z",
     "start_time": "2023-05-05T11:51:55.616081Z"
    },
    "id": "BsTDgMrVcttF"
   },
   "outputs": [],
   "source": [
    "df = pd.read_csv('https://raw.githubusercontent.com/aishwaryamate/Datasets/main/Churn_Modelling.csv')"
   ]
  },
  {
   "cell_type": "code",
   "execution_count": 4,
   "metadata": {
    "ExecuteTime": {
     "end_time": "2023-05-05T11:51:55.718956Z",
     "start_time": "2023-05-05T11:51:55.672106Z"
    },
    "colab": {
     "base_uri": "https://localhost:8080/",
     "height": 423
    },
    "id": "o9FpCyIBdANu",
    "outputId": "558d1b90-96cd-4322-d96f-20483803f3a9"
   },
   "outputs": [
    {
     "data": {
      "text/html": [
       "<div>\n",
       "<style scoped>\n",
       "    .dataframe tbody tr th:only-of-type {\n",
       "        vertical-align: middle;\n",
       "    }\n",
       "\n",
       "    .dataframe tbody tr th {\n",
       "        vertical-align: top;\n",
       "    }\n",
       "\n",
       "    .dataframe thead th {\n",
       "        text-align: right;\n",
       "    }\n",
       "</style>\n",
       "<table border=\"1\" class=\"dataframe\">\n",
       "  <thead>\n",
       "    <tr style=\"text-align: right;\">\n",
       "      <th></th>\n",
       "      <th>RowNumber</th>\n",
       "      <th>CustomerId</th>\n",
       "      <th>Surname</th>\n",
       "      <th>CreditScore</th>\n",
       "      <th>Geography</th>\n",
       "      <th>Gender</th>\n",
       "      <th>Age</th>\n",
       "      <th>Tenure</th>\n",
       "      <th>Balance</th>\n",
       "      <th>NumOfProducts</th>\n",
       "      <th>HasCrCard</th>\n",
       "      <th>IsActiveMember</th>\n",
       "      <th>EstimatedSalary</th>\n",
       "      <th>Exited</th>\n",
       "    </tr>\n",
       "  </thead>\n",
       "  <tbody>\n",
       "    <tr>\n",
       "      <th>0</th>\n",
       "      <td>1</td>\n",
       "      <td>15634602</td>\n",
       "      <td>Hargrave</td>\n",
       "      <td>619</td>\n",
       "      <td>France</td>\n",
       "      <td>Female</td>\n",
       "      <td>42</td>\n",
       "      <td>2</td>\n",
       "      <td>0.00</td>\n",
       "      <td>1</td>\n",
       "      <td>1</td>\n",
       "      <td>1</td>\n",
       "      <td>101348.88</td>\n",
       "      <td>1</td>\n",
       "    </tr>\n",
       "    <tr>\n",
       "      <th>1</th>\n",
       "      <td>2</td>\n",
       "      <td>15647311</td>\n",
       "      <td>Hill</td>\n",
       "      <td>608</td>\n",
       "      <td>Spain</td>\n",
       "      <td>Female</td>\n",
       "      <td>41</td>\n",
       "      <td>1</td>\n",
       "      <td>83807.86</td>\n",
       "      <td>1</td>\n",
       "      <td>0</td>\n",
       "      <td>1</td>\n",
       "      <td>112542.58</td>\n",
       "      <td>0</td>\n",
       "    </tr>\n",
       "    <tr>\n",
       "      <th>2</th>\n",
       "      <td>3</td>\n",
       "      <td>15619304</td>\n",
       "      <td>Onio</td>\n",
       "      <td>502</td>\n",
       "      <td>France</td>\n",
       "      <td>Female</td>\n",
       "      <td>42</td>\n",
       "      <td>8</td>\n",
       "      <td>159660.80</td>\n",
       "      <td>3</td>\n",
       "      <td>1</td>\n",
       "      <td>0</td>\n",
       "      <td>113931.57</td>\n",
       "      <td>1</td>\n",
       "    </tr>\n",
       "    <tr>\n",
       "      <th>3</th>\n",
       "      <td>4</td>\n",
       "      <td>15701354</td>\n",
       "      <td>Boni</td>\n",
       "      <td>699</td>\n",
       "      <td>France</td>\n",
       "      <td>Female</td>\n",
       "      <td>39</td>\n",
       "      <td>1</td>\n",
       "      <td>0.00</td>\n",
       "      <td>2</td>\n",
       "      <td>0</td>\n",
       "      <td>0</td>\n",
       "      <td>93826.63</td>\n",
       "      <td>0</td>\n",
       "    </tr>\n",
       "    <tr>\n",
       "      <th>4</th>\n",
       "      <td>5</td>\n",
       "      <td>15737888</td>\n",
       "      <td>Mitchell</td>\n",
       "      <td>850</td>\n",
       "      <td>Spain</td>\n",
       "      <td>Female</td>\n",
       "      <td>43</td>\n",
       "      <td>2</td>\n",
       "      <td>125510.82</td>\n",
       "      <td>1</td>\n",
       "      <td>1</td>\n",
       "      <td>1</td>\n",
       "      <td>79084.10</td>\n",
       "      <td>0</td>\n",
       "    </tr>\n",
       "    <tr>\n",
       "      <th>...</th>\n",
       "      <td>...</td>\n",
       "      <td>...</td>\n",
       "      <td>...</td>\n",
       "      <td>...</td>\n",
       "      <td>...</td>\n",
       "      <td>...</td>\n",
       "      <td>...</td>\n",
       "      <td>...</td>\n",
       "      <td>...</td>\n",
       "      <td>...</td>\n",
       "      <td>...</td>\n",
       "      <td>...</td>\n",
       "      <td>...</td>\n",
       "      <td>...</td>\n",
       "    </tr>\n",
       "    <tr>\n",
       "      <th>9995</th>\n",
       "      <td>9996</td>\n",
       "      <td>15606229</td>\n",
       "      <td>Obijiaku</td>\n",
       "      <td>771</td>\n",
       "      <td>France</td>\n",
       "      <td>Male</td>\n",
       "      <td>39</td>\n",
       "      <td>5</td>\n",
       "      <td>0.00</td>\n",
       "      <td>2</td>\n",
       "      <td>1</td>\n",
       "      <td>0</td>\n",
       "      <td>96270.64</td>\n",
       "      <td>0</td>\n",
       "    </tr>\n",
       "    <tr>\n",
       "      <th>9996</th>\n",
       "      <td>9997</td>\n",
       "      <td>15569892</td>\n",
       "      <td>Johnstone</td>\n",
       "      <td>516</td>\n",
       "      <td>France</td>\n",
       "      <td>Male</td>\n",
       "      <td>35</td>\n",
       "      <td>10</td>\n",
       "      <td>57369.61</td>\n",
       "      <td>1</td>\n",
       "      <td>1</td>\n",
       "      <td>1</td>\n",
       "      <td>101699.77</td>\n",
       "      <td>0</td>\n",
       "    </tr>\n",
       "    <tr>\n",
       "      <th>9997</th>\n",
       "      <td>9998</td>\n",
       "      <td>15584532</td>\n",
       "      <td>Liu</td>\n",
       "      <td>709</td>\n",
       "      <td>France</td>\n",
       "      <td>Female</td>\n",
       "      <td>36</td>\n",
       "      <td>7</td>\n",
       "      <td>0.00</td>\n",
       "      <td>1</td>\n",
       "      <td>0</td>\n",
       "      <td>1</td>\n",
       "      <td>42085.58</td>\n",
       "      <td>1</td>\n",
       "    </tr>\n",
       "    <tr>\n",
       "      <th>9998</th>\n",
       "      <td>9999</td>\n",
       "      <td>15682355</td>\n",
       "      <td>Sabbatini</td>\n",
       "      <td>772</td>\n",
       "      <td>Germany</td>\n",
       "      <td>Male</td>\n",
       "      <td>42</td>\n",
       "      <td>3</td>\n",
       "      <td>75075.31</td>\n",
       "      <td>2</td>\n",
       "      <td>1</td>\n",
       "      <td>0</td>\n",
       "      <td>92888.52</td>\n",
       "      <td>1</td>\n",
       "    </tr>\n",
       "    <tr>\n",
       "      <th>9999</th>\n",
       "      <td>10000</td>\n",
       "      <td>15628319</td>\n",
       "      <td>Walker</td>\n",
       "      <td>792</td>\n",
       "      <td>France</td>\n",
       "      <td>Female</td>\n",
       "      <td>28</td>\n",
       "      <td>4</td>\n",
       "      <td>130142.79</td>\n",
       "      <td>1</td>\n",
       "      <td>1</td>\n",
       "      <td>0</td>\n",
       "      <td>38190.78</td>\n",
       "      <td>0</td>\n",
       "    </tr>\n",
       "  </tbody>\n",
       "</table>\n",
       "<p>10000 rows × 14 columns</p>\n",
       "</div>"
      ],
      "text/plain": [
       "      RowNumber  CustomerId    Surname  CreditScore Geography  Gender  Age  \\\n",
       "0             1    15634602   Hargrave          619    France  Female   42   \n",
       "1             2    15647311       Hill          608     Spain  Female   41   \n",
       "2             3    15619304       Onio          502    France  Female   42   \n",
       "3             4    15701354       Boni          699    France  Female   39   \n",
       "4             5    15737888   Mitchell          850     Spain  Female   43   \n",
       "...         ...         ...        ...          ...       ...     ...  ...   \n",
       "9995       9996    15606229   Obijiaku          771    France    Male   39   \n",
       "9996       9997    15569892  Johnstone          516    France    Male   35   \n",
       "9997       9998    15584532        Liu          709    France  Female   36   \n",
       "9998       9999    15682355  Sabbatini          772   Germany    Male   42   \n",
       "9999      10000    15628319     Walker          792    France  Female   28   \n",
       "\n",
       "      Tenure    Balance  NumOfProducts  HasCrCard  IsActiveMember  \\\n",
       "0          2       0.00              1          1               1   \n",
       "1          1   83807.86              1          0               1   \n",
       "2          8  159660.80              3          1               0   \n",
       "3          1       0.00              2          0               0   \n",
       "4          2  125510.82              1          1               1   \n",
       "...      ...        ...            ...        ...             ...   \n",
       "9995       5       0.00              2          1               0   \n",
       "9996      10   57369.61              1          1               1   \n",
       "9997       7       0.00              1          0               1   \n",
       "9998       3   75075.31              2          1               0   \n",
       "9999       4  130142.79              1          1               0   \n",
       "\n",
       "      EstimatedSalary  Exited  \n",
       "0           101348.88       1  \n",
       "1           112542.58       0  \n",
       "2           113931.57       1  \n",
       "3            93826.63       0  \n",
       "4            79084.10       0  \n",
       "...               ...     ...  \n",
       "9995         96270.64       0  \n",
       "9996        101699.77       0  \n",
       "9997         42085.58       1  \n",
       "9998         92888.52       1  \n",
       "9999         38190.78       0  \n",
       "\n",
       "[10000 rows x 14 columns]"
      ]
     },
     "execution_count": 4,
     "metadata": {},
     "output_type": "execute_result"
    }
   ],
   "source": [
    "df"
   ]
  },
  {
   "cell_type": "code",
   "execution_count": 5,
   "metadata": {
    "ExecuteTime": {
     "end_time": "2023-05-05T11:51:55.735362Z",
     "start_time": "2023-05-05T11:51:55.722946Z"
    },
    "id": "8usO-hJAdA7-"
   },
   "outputs": [],
   "source": [
    "df.drop(columns = ['RowNumber'\t,'CustomerId',\t'Surname'], inplace=True)"
   ]
  },
  {
   "cell_type": "code",
   "execution_count": 6,
   "metadata": {
    "ExecuteTime": {
     "end_time": "2023-05-05T11:51:55.777844Z",
     "start_time": "2023-05-05T11:51:55.738140Z"
    },
    "colab": {
     "base_uri": "https://localhost:8080/",
     "height": 423
    },
    "id": "mnZyh3etdIrD",
    "outputId": "fc4f8617-209c-4cd6-f634-5f058678b639"
   },
   "outputs": [
    {
     "data": {
      "text/html": [
       "<div>\n",
       "<style scoped>\n",
       "    .dataframe tbody tr th:only-of-type {\n",
       "        vertical-align: middle;\n",
       "    }\n",
       "\n",
       "    .dataframe tbody tr th {\n",
       "        vertical-align: top;\n",
       "    }\n",
       "\n",
       "    .dataframe thead th {\n",
       "        text-align: right;\n",
       "    }\n",
       "</style>\n",
       "<table border=\"1\" class=\"dataframe\">\n",
       "  <thead>\n",
       "    <tr style=\"text-align: right;\">\n",
       "      <th></th>\n",
       "      <th>CreditScore</th>\n",
       "      <th>Geography</th>\n",
       "      <th>Gender</th>\n",
       "      <th>Age</th>\n",
       "      <th>Tenure</th>\n",
       "      <th>Balance</th>\n",
       "      <th>NumOfProducts</th>\n",
       "      <th>HasCrCard</th>\n",
       "      <th>IsActiveMember</th>\n",
       "      <th>EstimatedSalary</th>\n",
       "      <th>Exited</th>\n",
       "    </tr>\n",
       "  </thead>\n",
       "  <tbody>\n",
       "    <tr>\n",
       "      <th>0</th>\n",
       "      <td>619</td>\n",
       "      <td>France</td>\n",
       "      <td>Female</td>\n",
       "      <td>42</td>\n",
       "      <td>2</td>\n",
       "      <td>0.00</td>\n",
       "      <td>1</td>\n",
       "      <td>1</td>\n",
       "      <td>1</td>\n",
       "      <td>101348.88</td>\n",
       "      <td>1</td>\n",
       "    </tr>\n",
       "    <tr>\n",
       "      <th>1</th>\n",
       "      <td>608</td>\n",
       "      <td>Spain</td>\n",
       "      <td>Female</td>\n",
       "      <td>41</td>\n",
       "      <td>1</td>\n",
       "      <td>83807.86</td>\n",
       "      <td>1</td>\n",
       "      <td>0</td>\n",
       "      <td>1</td>\n",
       "      <td>112542.58</td>\n",
       "      <td>0</td>\n",
       "    </tr>\n",
       "    <tr>\n",
       "      <th>2</th>\n",
       "      <td>502</td>\n",
       "      <td>France</td>\n",
       "      <td>Female</td>\n",
       "      <td>42</td>\n",
       "      <td>8</td>\n",
       "      <td>159660.80</td>\n",
       "      <td>3</td>\n",
       "      <td>1</td>\n",
       "      <td>0</td>\n",
       "      <td>113931.57</td>\n",
       "      <td>1</td>\n",
       "    </tr>\n",
       "    <tr>\n",
       "      <th>3</th>\n",
       "      <td>699</td>\n",
       "      <td>France</td>\n",
       "      <td>Female</td>\n",
       "      <td>39</td>\n",
       "      <td>1</td>\n",
       "      <td>0.00</td>\n",
       "      <td>2</td>\n",
       "      <td>0</td>\n",
       "      <td>0</td>\n",
       "      <td>93826.63</td>\n",
       "      <td>0</td>\n",
       "    </tr>\n",
       "    <tr>\n",
       "      <th>4</th>\n",
       "      <td>850</td>\n",
       "      <td>Spain</td>\n",
       "      <td>Female</td>\n",
       "      <td>43</td>\n",
       "      <td>2</td>\n",
       "      <td>125510.82</td>\n",
       "      <td>1</td>\n",
       "      <td>1</td>\n",
       "      <td>1</td>\n",
       "      <td>79084.10</td>\n",
       "      <td>0</td>\n",
       "    </tr>\n",
       "    <tr>\n",
       "      <th>...</th>\n",
       "      <td>...</td>\n",
       "      <td>...</td>\n",
       "      <td>...</td>\n",
       "      <td>...</td>\n",
       "      <td>...</td>\n",
       "      <td>...</td>\n",
       "      <td>...</td>\n",
       "      <td>...</td>\n",
       "      <td>...</td>\n",
       "      <td>...</td>\n",
       "      <td>...</td>\n",
       "    </tr>\n",
       "    <tr>\n",
       "      <th>9995</th>\n",
       "      <td>771</td>\n",
       "      <td>France</td>\n",
       "      <td>Male</td>\n",
       "      <td>39</td>\n",
       "      <td>5</td>\n",
       "      <td>0.00</td>\n",
       "      <td>2</td>\n",
       "      <td>1</td>\n",
       "      <td>0</td>\n",
       "      <td>96270.64</td>\n",
       "      <td>0</td>\n",
       "    </tr>\n",
       "    <tr>\n",
       "      <th>9996</th>\n",
       "      <td>516</td>\n",
       "      <td>France</td>\n",
       "      <td>Male</td>\n",
       "      <td>35</td>\n",
       "      <td>10</td>\n",
       "      <td>57369.61</td>\n",
       "      <td>1</td>\n",
       "      <td>1</td>\n",
       "      <td>1</td>\n",
       "      <td>101699.77</td>\n",
       "      <td>0</td>\n",
       "    </tr>\n",
       "    <tr>\n",
       "      <th>9997</th>\n",
       "      <td>709</td>\n",
       "      <td>France</td>\n",
       "      <td>Female</td>\n",
       "      <td>36</td>\n",
       "      <td>7</td>\n",
       "      <td>0.00</td>\n",
       "      <td>1</td>\n",
       "      <td>0</td>\n",
       "      <td>1</td>\n",
       "      <td>42085.58</td>\n",
       "      <td>1</td>\n",
       "    </tr>\n",
       "    <tr>\n",
       "      <th>9998</th>\n",
       "      <td>772</td>\n",
       "      <td>Germany</td>\n",
       "      <td>Male</td>\n",
       "      <td>42</td>\n",
       "      <td>3</td>\n",
       "      <td>75075.31</td>\n",
       "      <td>2</td>\n",
       "      <td>1</td>\n",
       "      <td>0</td>\n",
       "      <td>92888.52</td>\n",
       "      <td>1</td>\n",
       "    </tr>\n",
       "    <tr>\n",
       "      <th>9999</th>\n",
       "      <td>792</td>\n",
       "      <td>France</td>\n",
       "      <td>Female</td>\n",
       "      <td>28</td>\n",
       "      <td>4</td>\n",
       "      <td>130142.79</td>\n",
       "      <td>1</td>\n",
       "      <td>1</td>\n",
       "      <td>0</td>\n",
       "      <td>38190.78</td>\n",
       "      <td>0</td>\n",
       "    </tr>\n",
       "  </tbody>\n",
       "</table>\n",
       "<p>10000 rows × 11 columns</p>\n",
       "</div>"
      ],
      "text/plain": [
       "      CreditScore Geography  Gender  Age  Tenure    Balance  NumOfProducts  \\\n",
       "0             619    France  Female   42       2       0.00              1   \n",
       "1             608     Spain  Female   41       1   83807.86              1   \n",
       "2             502    France  Female   42       8  159660.80              3   \n",
       "3             699    France  Female   39       1       0.00              2   \n",
       "4             850     Spain  Female   43       2  125510.82              1   \n",
       "...           ...       ...     ...  ...     ...        ...            ...   \n",
       "9995          771    France    Male   39       5       0.00              2   \n",
       "9996          516    France    Male   35      10   57369.61              1   \n",
       "9997          709    France  Female   36       7       0.00              1   \n",
       "9998          772   Germany    Male   42       3   75075.31              2   \n",
       "9999          792    France  Female   28       4  130142.79              1   \n",
       "\n",
       "      HasCrCard  IsActiveMember  EstimatedSalary  Exited  \n",
       "0             1               1        101348.88       1  \n",
       "1             0               1        112542.58       0  \n",
       "2             1               0        113931.57       1  \n",
       "3             0               0         93826.63       0  \n",
       "4             1               1         79084.10       0  \n",
       "...         ...             ...              ...     ...  \n",
       "9995          1               0         96270.64       0  \n",
       "9996          1               1        101699.77       0  \n",
       "9997          0               1         42085.58       1  \n",
       "9998          1               0         92888.52       1  \n",
       "9999          1               0         38190.78       0  \n",
       "\n",
       "[10000 rows x 11 columns]"
      ]
     },
     "execution_count": 6,
     "metadata": {},
     "output_type": "execute_result"
    }
   ],
   "source": [
    "df"
   ]
  },
  {
   "cell_type": "code",
   "execution_count": 7,
   "metadata": {
    "ExecuteTime": {
     "end_time": "2023-05-05T11:51:55.843216Z",
     "start_time": "2023-05-05T11:51:55.783924Z"
    },
    "colab": {
     "base_uri": "https://localhost:8080/",
     "height": 443
    },
    "id": "zYmxq9y4dSA4",
    "outputId": "dd01d609-2ddb-4a4b-dcd6-63b2dce7a456"
   },
   "outputs": [
    {
     "data": {
      "text/html": [
       "<div>\n",
       "<style scoped>\n",
       "    .dataframe tbody tr th:only-of-type {\n",
       "        vertical-align: middle;\n",
       "    }\n",
       "\n",
       "    .dataframe tbody tr th {\n",
       "        vertical-align: top;\n",
       "    }\n",
       "\n",
       "    .dataframe thead th {\n",
       "        text-align: right;\n",
       "    }\n",
       "</style>\n",
       "<table border=\"1\" class=\"dataframe\">\n",
       "  <thead>\n",
       "    <tr style=\"text-align: right;\">\n",
       "      <th></th>\n",
       "      <th>CreditScore</th>\n",
       "      <th>Age</th>\n",
       "      <th>Tenure</th>\n",
       "      <th>Balance</th>\n",
       "      <th>NumOfProducts</th>\n",
       "      <th>HasCrCard</th>\n",
       "      <th>IsActiveMember</th>\n",
       "      <th>EstimatedSalary</th>\n",
       "      <th>Exited</th>\n",
       "      <th>Geography_France</th>\n",
       "      <th>Geography_Germany</th>\n",
       "      <th>Geography_Spain</th>\n",
       "      <th>Gender_Female</th>\n",
       "      <th>Gender_Male</th>\n",
       "    </tr>\n",
       "  </thead>\n",
       "  <tbody>\n",
       "    <tr>\n",
       "      <th>0</th>\n",
       "      <td>619</td>\n",
       "      <td>42</td>\n",
       "      <td>2</td>\n",
       "      <td>0.00</td>\n",
       "      <td>1</td>\n",
       "      <td>1</td>\n",
       "      <td>1</td>\n",
       "      <td>101348.88</td>\n",
       "      <td>1</td>\n",
       "      <td>1</td>\n",
       "      <td>0</td>\n",
       "      <td>0</td>\n",
       "      <td>1</td>\n",
       "      <td>0</td>\n",
       "    </tr>\n",
       "    <tr>\n",
       "      <th>1</th>\n",
       "      <td>608</td>\n",
       "      <td>41</td>\n",
       "      <td>1</td>\n",
       "      <td>83807.86</td>\n",
       "      <td>1</td>\n",
       "      <td>0</td>\n",
       "      <td>1</td>\n",
       "      <td>112542.58</td>\n",
       "      <td>0</td>\n",
       "      <td>0</td>\n",
       "      <td>0</td>\n",
       "      <td>1</td>\n",
       "      <td>1</td>\n",
       "      <td>0</td>\n",
       "    </tr>\n",
       "    <tr>\n",
       "      <th>2</th>\n",
       "      <td>502</td>\n",
       "      <td>42</td>\n",
       "      <td>8</td>\n",
       "      <td>159660.80</td>\n",
       "      <td>3</td>\n",
       "      <td>1</td>\n",
       "      <td>0</td>\n",
       "      <td>113931.57</td>\n",
       "      <td>1</td>\n",
       "      <td>1</td>\n",
       "      <td>0</td>\n",
       "      <td>0</td>\n",
       "      <td>1</td>\n",
       "      <td>0</td>\n",
       "    </tr>\n",
       "    <tr>\n",
       "      <th>3</th>\n",
       "      <td>699</td>\n",
       "      <td>39</td>\n",
       "      <td>1</td>\n",
       "      <td>0.00</td>\n",
       "      <td>2</td>\n",
       "      <td>0</td>\n",
       "      <td>0</td>\n",
       "      <td>93826.63</td>\n",
       "      <td>0</td>\n",
       "      <td>1</td>\n",
       "      <td>0</td>\n",
       "      <td>0</td>\n",
       "      <td>1</td>\n",
       "      <td>0</td>\n",
       "    </tr>\n",
       "    <tr>\n",
       "      <th>4</th>\n",
       "      <td>850</td>\n",
       "      <td>43</td>\n",
       "      <td>2</td>\n",
       "      <td>125510.82</td>\n",
       "      <td>1</td>\n",
       "      <td>1</td>\n",
       "      <td>1</td>\n",
       "      <td>79084.10</td>\n",
       "      <td>0</td>\n",
       "      <td>0</td>\n",
       "      <td>0</td>\n",
       "      <td>1</td>\n",
       "      <td>1</td>\n",
       "      <td>0</td>\n",
       "    </tr>\n",
       "    <tr>\n",
       "      <th>...</th>\n",
       "      <td>...</td>\n",
       "      <td>...</td>\n",
       "      <td>...</td>\n",
       "      <td>...</td>\n",
       "      <td>...</td>\n",
       "      <td>...</td>\n",
       "      <td>...</td>\n",
       "      <td>...</td>\n",
       "      <td>...</td>\n",
       "      <td>...</td>\n",
       "      <td>...</td>\n",
       "      <td>...</td>\n",
       "      <td>...</td>\n",
       "      <td>...</td>\n",
       "    </tr>\n",
       "    <tr>\n",
       "      <th>9995</th>\n",
       "      <td>771</td>\n",
       "      <td>39</td>\n",
       "      <td>5</td>\n",
       "      <td>0.00</td>\n",
       "      <td>2</td>\n",
       "      <td>1</td>\n",
       "      <td>0</td>\n",
       "      <td>96270.64</td>\n",
       "      <td>0</td>\n",
       "      <td>1</td>\n",
       "      <td>0</td>\n",
       "      <td>0</td>\n",
       "      <td>0</td>\n",
       "      <td>1</td>\n",
       "    </tr>\n",
       "    <tr>\n",
       "      <th>9996</th>\n",
       "      <td>516</td>\n",
       "      <td>35</td>\n",
       "      <td>10</td>\n",
       "      <td>57369.61</td>\n",
       "      <td>1</td>\n",
       "      <td>1</td>\n",
       "      <td>1</td>\n",
       "      <td>101699.77</td>\n",
       "      <td>0</td>\n",
       "      <td>1</td>\n",
       "      <td>0</td>\n",
       "      <td>0</td>\n",
       "      <td>0</td>\n",
       "      <td>1</td>\n",
       "    </tr>\n",
       "    <tr>\n",
       "      <th>9997</th>\n",
       "      <td>709</td>\n",
       "      <td>36</td>\n",
       "      <td>7</td>\n",
       "      <td>0.00</td>\n",
       "      <td>1</td>\n",
       "      <td>0</td>\n",
       "      <td>1</td>\n",
       "      <td>42085.58</td>\n",
       "      <td>1</td>\n",
       "      <td>1</td>\n",
       "      <td>0</td>\n",
       "      <td>0</td>\n",
       "      <td>1</td>\n",
       "      <td>0</td>\n",
       "    </tr>\n",
       "    <tr>\n",
       "      <th>9998</th>\n",
       "      <td>772</td>\n",
       "      <td>42</td>\n",
       "      <td>3</td>\n",
       "      <td>75075.31</td>\n",
       "      <td>2</td>\n",
       "      <td>1</td>\n",
       "      <td>0</td>\n",
       "      <td>92888.52</td>\n",
       "      <td>1</td>\n",
       "      <td>0</td>\n",
       "      <td>1</td>\n",
       "      <td>0</td>\n",
       "      <td>0</td>\n",
       "      <td>1</td>\n",
       "    </tr>\n",
       "    <tr>\n",
       "      <th>9999</th>\n",
       "      <td>792</td>\n",
       "      <td>28</td>\n",
       "      <td>4</td>\n",
       "      <td>130142.79</td>\n",
       "      <td>1</td>\n",
       "      <td>1</td>\n",
       "      <td>0</td>\n",
       "      <td>38190.78</td>\n",
       "      <td>0</td>\n",
       "      <td>1</td>\n",
       "      <td>0</td>\n",
       "      <td>0</td>\n",
       "      <td>1</td>\n",
       "      <td>0</td>\n",
       "    </tr>\n",
       "  </tbody>\n",
       "</table>\n",
       "<p>10000 rows × 14 columns</p>\n",
       "</div>"
      ],
      "text/plain": [
       "      CreditScore  Age  Tenure    Balance  NumOfProducts  HasCrCard  \\\n",
       "0             619   42       2       0.00              1          1   \n",
       "1             608   41       1   83807.86              1          0   \n",
       "2             502   42       8  159660.80              3          1   \n",
       "3             699   39       1       0.00              2          0   \n",
       "4             850   43       2  125510.82              1          1   \n",
       "...           ...  ...     ...        ...            ...        ...   \n",
       "9995          771   39       5       0.00              2          1   \n",
       "9996          516   35      10   57369.61              1          1   \n",
       "9997          709   36       7       0.00              1          0   \n",
       "9998          772   42       3   75075.31              2          1   \n",
       "9999          792   28       4  130142.79              1          1   \n",
       "\n",
       "      IsActiveMember  EstimatedSalary  Exited  Geography_France  \\\n",
       "0                  1        101348.88       1                 1   \n",
       "1                  1        112542.58       0                 0   \n",
       "2                  0        113931.57       1                 1   \n",
       "3                  0         93826.63       0                 1   \n",
       "4                  1         79084.10       0                 0   \n",
       "...              ...              ...     ...               ...   \n",
       "9995               0         96270.64       0                 1   \n",
       "9996               1        101699.77       0                 1   \n",
       "9997               1         42085.58       1                 1   \n",
       "9998               0         92888.52       1                 0   \n",
       "9999               0         38190.78       0                 1   \n",
       "\n",
       "      Geography_Germany  Geography_Spain  Gender_Female  Gender_Male  \n",
       "0                     0                0              1            0  \n",
       "1                     0                1              1            0  \n",
       "2                     0                0              1            0  \n",
       "3                     0                0              1            0  \n",
       "4                     0                1              1            0  \n",
       "...                 ...              ...            ...          ...  \n",
       "9995                  0                0              0            1  \n",
       "9996                  0                0              0            1  \n",
       "9997                  0                0              1            0  \n",
       "9998                  1                0              0            1  \n",
       "9999                  0                0              1            0  \n",
       "\n",
       "[10000 rows x 14 columns]"
      ]
     },
     "execution_count": 7,
     "metadata": {},
     "output_type": "execute_result"
    }
   ],
   "source": [
    "df = pd.get_dummies(data = df,columns=['Geography','Gender'])\n",
    "df"
   ]
  },
  {
   "cell_type": "code",
   "execution_count": 8,
   "metadata": {
    "ExecuteTime": {
     "end_time": "2023-05-05T11:51:55.851863Z",
     "start_time": "2023-05-05T11:51:55.846051Z"
    },
    "id": "3T2F1ZxhdkHi"
   },
   "outputs": [],
   "source": [
    "x = df.drop(columns = ['Exited'])\n",
    "y = df['Exited']"
   ]
  },
  {
   "cell_type": "code",
   "execution_count": 9,
   "metadata": {
    "ExecuteTime": {
     "end_time": "2023-05-05T11:51:55.880983Z",
     "start_time": "2023-05-05T11:51:55.855847Z"
    },
    "id": "qgj16KKGd1IU"
   },
   "outputs": [],
   "source": [
    "sc = StandardScaler()\n",
    "\n",
    "x = sc.fit_transform(x)"
   ]
  },
  {
   "cell_type": "code",
   "execution_count": 10,
   "metadata": {
    "ExecuteTime": {
     "end_time": "2023-05-05T11:51:55.897720Z",
     "start_time": "2023-05-05T11:51:55.884994Z"
    },
    "id": "agqsCyJheB-L"
   },
   "outputs": [],
   "source": [
    "from sklearn.model_selection import train_test_split"
   ]
  },
  {
   "cell_type": "code",
   "execution_count": 11,
   "metadata": {
    "ExecuteTime": {
     "end_time": "2023-05-05T11:51:55.913698Z",
     "start_time": "2023-05-05T11:51:55.904234Z"
    },
    "id": "bxrbRbsHeIAF"
   },
   "outputs": [],
   "source": [
    "xtrain,xtest,ytrain,ytest = train_test_split(x,y,test_size = 0.20, random_state=1)"
   ]
  },
  {
   "cell_type": "code",
   "execution_count": 12,
   "metadata": {
    "ExecuteTime": {
     "end_time": "2023-05-05T11:53:30.585305Z",
     "start_time": "2023-05-05T11:51:55.916358Z"
    },
    "colab": {
     "base_uri": "https://localhost:8080/"
    },
    "id": "izWVY8w0eOXW",
    "outputId": "0dcfa6e6-80ed-47c8-c69c-89a1b3435a42"
   },
   "outputs": [
    {
     "name": "stdout",
     "output_type": "stream",
     "text": [
      "Epoch 1/100\n",
      "250/250 [==============================] - 1s 2ms/step - loss: 0.8377 - accuracy: 0.4121\n",
      "Epoch 2/100\n",
      "250/250 [==============================] - 0s 2ms/step - loss: 0.8363 - accuracy: 0.4124\n",
      "Epoch 3/100\n",
      "250/250 [==============================] - 1s 2ms/step - loss: 0.8348 - accuracy: 0.4134\n",
      "Epoch 4/100\n",
      "250/250 [==============================] - 1s 2ms/step - loss: 0.8333 - accuracy: 0.4144\n",
      "Epoch 5/100\n",
      "250/250 [==============================] - 1s 2ms/step - loss: 0.8318 - accuracy: 0.4155\n",
      "Epoch 6/100\n",
      "250/250 [==============================] - 1s 2ms/step - loss: 0.8302 - accuracy: 0.4165\n",
      "Epoch 7/100\n",
      "250/250 [==============================] - 1s 2ms/step - loss: 0.8286 - accuracy: 0.4174\n",
      "Epoch 8/100\n",
      "250/250 [==============================] - 0s 2ms/step - loss: 0.8271 - accuracy: 0.4181\n",
      "Epoch 9/100\n",
      "250/250 [==============================] - 0s 2ms/step - loss: 0.8255 - accuracy: 0.4195\n",
      "Epoch 10/100\n",
      "250/250 [==============================] - 1s 2ms/step - loss: 0.8238 - accuracy: 0.4199\n",
      "Epoch 11/100\n",
      "250/250 [==============================] - 1s 2ms/step - loss: 0.8222 - accuracy: 0.4211\n",
      "Epoch 12/100\n",
      "250/250 [==============================] - 1s 2ms/step - loss: 0.8206 - accuracy: 0.4210\n",
      "Epoch 13/100\n",
      "250/250 [==============================] - 1s 2ms/step - loss: 0.8191 - accuracy: 0.4221\n",
      "Epoch 14/100\n",
      "250/250 [==============================] - 1s 2ms/step - loss: 0.8175 - accuracy: 0.4234\n",
      "Epoch 15/100\n",
      "250/250 [==============================] - 1s 2ms/step - loss: 0.8159 - accuracy: 0.4248\n",
      "Epoch 16/100\n",
      "250/250 [==============================] - 1s 2ms/step - loss: 0.8143 - accuracy: 0.4269\n",
      "Epoch 17/100\n",
      "250/250 [==============================] - 1s 2ms/step - loss: 0.8126 - accuracy: 0.4285\n",
      "Epoch 18/100\n",
      "250/250 [==============================] - 1s 2ms/step - loss: 0.8110 - accuracy: 0.4290\n",
      "Epoch 19/100\n",
      "250/250 [==============================] - 1s 2ms/step - loss: 0.8095 - accuracy: 0.4294\n",
      "Epoch 20/100\n",
      "250/250 [==============================] - 1s 2ms/step - loss: 0.8079 - accuracy: 0.4295\n",
      "Epoch 21/100\n",
      "250/250 [==============================] - 0s 1ms/step - loss: 0.8063 - accuracy: 0.4311\n",
      "Epoch 22/100\n",
      "250/250 [==============================] - 0s 1ms/step - loss: 0.8047 - accuracy: 0.4320\n",
      "Epoch 23/100\n",
      "250/250 [==============================] - 0s 1ms/step - loss: 0.8031 - accuracy: 0.4335\n",
      "Epoch 24/100\n",
      "250/250 [==============================] - 0s 1ms/step - loss: 0.8015 - accuracy: 0.4342\n",
      "Epoch 25/100\n",
      "250/250 [==============================] - 0s 1ms/step - loss: 0.8000 - accuracy: 0.4350\n",
      "Epoch 26/100\n",
      "250/250 [==============================] - 0s 2ms/step - loss: 0.7984 - accuracy: 0.4353\n",
      "Epoch 27/100\n",
      "250/250 [==============================] - 0s 2ms/step - loss: 0.7969 - accuracy: 0.4365\n",
      "Epoch 28/100\n",
      "250/250 [==============================] - 0s 2ms/step - loss: 0.7953 - accuracy: 0.4376\n",
      "Epoch 29/100\n",
      "250/250 [==============================] - 0s 2ms/step - loss: 0.7938 - accuracy: 0.4383\n",
      "Epoch 30/100\n",
      "250/250 [==============================] - 0s 2ms/step - loss: 0.7923 - accuracy: 0.4395\n",
      "Epoch 31/100\n",
      "250/250 [==============================] - 0s 2ms/step - loss: 0.7907 - accuracy: 0.4409\n",
      "Epoch 32/100\n",
      "250/250 [==============================] - 0s 2ms/step - loss: 0.7892 - accuracy: 0.4423\n",
      "Epoch 33/100\n",
      "250/250 [==============================] - 0s 2ms/step - loss: 0.7877 - accuracy: 0.4445\n",
      "Epoch 34/100\n",
      "250/250 [==============================] - 1s 2ms/step - loss: 0.7862 - accuracy: 0.4455\n",
      "Epoch 35/100\n",
      "250/250 [==============================] - 1s 2ms/step - loss: 0.7847 - accuracy: 0.4470\n",
      "Epoch 36/100\n",
      "250/250 [==============================] - 0s 2ms/step - loss: 0.7833 - accuracy: 0.4480\n",
      "Epoch 37/100\n",
      "250/250 [==============================] - 1s 2ms/step - loss: 0.7818 - accuracy: 0.4494\n",
      "Epoch 38/100\n",
      "250/250 [==============================] - 0s 2ms/step - loss: 0.7803 - accuracy: 0.4505\n",
      "Epoch 39/100\n",
      "250/250 [==============================] - 0s 2ms/step - loss: 0.7789 - accuracy: 0.4519\n",
      "Epoch 40/100\n",
      "250/250 [==============================] - 1s 2ms/step - loss: 0.7775 - accuracy: 0.4525\n",
      "Epoch 41/100\n",
      "250/250 [==============================] - 1s 2ms/step - loss: 0.7760 - accuracy: 0.4534\n",
      "Epoch 42/100\n",
      "250/250 [==============================] - 1s 2ms/step - loss: 0.7746 - accuracy: 0.4545\n",
      "Epoch 43/100\n",
      "250/250 [==============================] - 1s 2ms/step - loss: 0.7732 - accuracy: 0.4563\n",
      "Epoch 44/100\n",
      "250/250 [==============================] - 1s 2ms/step - loss: 0.7717 - accuracy: 0.4576\n",
      "Epoch 45/100\n",
      "250/250 [==============================] - 1s 2ms/step - loss: 0.7703 - accuracy: 0.4593\n",
      "Epoch 46/100\n",
      "250/250 [==============================] - 0s 2ms/step - loss: 0.7689 - accuracy: 0.4601\n",
      "Epoch 47/100\n",
      "250/250 [==============================] - 1s 2ms/step - loss: 0.7675 - accuracy: 0.4611\n",
      "Epoch 48/100\n",
      "250/250 [==============================] - 1s 2ms/step - loss: 0.7661 - accuracy: 0.4621\n",
      "Epoch 49/100\n",
      "250/250 [==============================] - 0s 2ms/step - loss: 0.7646 - accuracy: 0.4631\n",
      "Epoch 50/100\n",
      "250/250 [==============================] - 1s 2ms/step - loss: 0.7632 - accuracy: 0.4642\n",
      "Epoch 51/100\n",
      "250/250 [==============================] - 1s 2ms/step - loss: 0.7619 - accuracy: 0.4654\n",
      "Epoch 52/100\n",
      "250/250 [==============================] - 1s 2ms/step - loss: 0.7605 - accuracy: 0.4671\n",
      "Epoch 53/100\n",
      "250/250 [==============================] - 1s 2ms/step - loss: 0.7591 - accuracy: 0.4688\n",
      "Epoch 54/100\n",
      "250/250 [==============================] - 0s 1ms/step - loss: 0.7577 - accuracy: 0.4701\n",
      "Epoch 55/100\n",
      "250/250 [==============================] - 0s 1ms/step - loss: 0.7564 - accuracy: 0.4716\n",
      "Epoch 56/100\n",
      "250/250 [==============================] - 0s 1ms/step - loss: 0.7550 - accuracy: 0.4728\n",
      "Epoch 57/100\n",
      "250/250 [==============================] - 0s 1ms/step - loss: 0.7537 - accuracy: 0.4734\n",
      "Epoch 58/100\n",
      "250/250 [==============================] - 0s 1ms/step - loss: 0.7523 - accuracy: 0.4741\n",
      "Epoch 59/100\n",
      "250/250 [==============================] - 0s 1ms/step - loss: 0.7510 - accuracy: 0.4753\n",
      "Epoch 60/100\n",
      "250/250 [==============================] - 1s 2ms/step - loss: 0.7497 - accuracy: 0.4769\n",
      "Epoch 61/100\n",
      "250/250 [==============================] - 0s 2ms/step - loss: 0.7484 - accuracy: 0.4781\n",
      "Epoch 62/100\n",
      "250/250 [==============================] - 0s 2ms/step - loss: 0.7471 - accuracy: 0.4789\n",
      "Epoch 63/100\n",
      "250/250 [==============================] - 0s 1ms/step - loss: 0.7458 - accuracy: 0.4801\n",
      "Epoch 64/100\n",
      "250/250 [==============================] - 0s 2ms/step - loss: 0.7445 - accuracy: 0.4807\n",
      "Epoch 65/100\n",
      "250/250 [==============================] - 1s 2ms/step - loss: 0.7432 - accuracy: 0.4824\n",
      "Epoch 66/100\n",
      "250/250 [==============================] - 1s 3ms/step - loss: 0.7419 - accuracy: 0.4841\n",
      "Epoch 67/100\n",
      "250/250 [==============================] - 1s 2ms/step - loss: 0.7406 - accuracy: 0.4849\n",
      "Epoch 68/100\n",
      "250/250 [==============================] - 1s 2ms/step - loss: 0.7393 - accuracy: 0.4865\n",
      "Epoch 69/100\n",
      "250/250 [==============================] - 1s 3ms/step - loss: 0.7380 - accuracy: 0.4871\n",
      "Epoch 70/100\n",
      "250/250 [==============================] - 1s 3ms/step - loss: 0.7367 - accuracy: 0.4880\n",
      "Epoch 71/100\n",
      "250/250 [==============================] - 1s 3ms/step - loss: 0.7355 - accuracy: 0.4899\n",
      "Epoch 72/100\n",
      "250/250 [==============================] - 1s 2ms/step - loss: 0.7342 - accuracy: 0.4916\n",
      "Epoch 73/100\n",
      "250/250 [==============================] - 1s 3ms/step - loss: 0.7330 - accuracy: 0.4929\n",
      "Epoch 74/100\n",
      "250/250 [==============================] - 1s 2ms/step - loss: 0.7317 - accuracy: 0.4942\n",
      "Epoch 75/100\n",
      "250/250 [==============================] - 1s 2ms/step - loss: 0.7305 - accuracy: 0.4960\n",
      "Epoch 76/100\n",
      "250/250 [==============================] - 1s 2ms/step - loss: 0.7292 - accuracy: 0.4979\n",
      "Epoch 77/100\n",
      "250/250 [==============================] - 1s 2ms/step - loss: 0.7280 - accuracy: 0.4986\n",
      "Epoch 78/100\n",
      "250/250 [==============================] - 1s 3ms/step - loss: 0.7268 - accuracy: 0.4999\n",
      "Epoch 79/100\n",
      "250/250 [==============================] - 1s 2ms/step - loss: 0.7256 - accuracy: 0.5015\n",
      "Epoch 80/100\n",
      "250/250 [==============================] - 1s 3ms/step - loss: 0.7243 - accuracy: 0.5029\n",
      "Epoch 81/100\n"
     ]
    },
    {
     "name": "stdout",
     "output_type": "stream",
     "text": [
      "250/250 [==============================] - 1s 3ms/step - loss: 0.7231 - accuracy: 0.5042\n",
      "Epoch 82/100\n",
      "250/250 [==============================] - 1s 3ms/step - loss: 0.7219 - accuracy: 0.5055\n",
      "Epoch 83/100\n",
      "250/250 [==============================] - 1s 2ms/step - loss: 0.7207 - accuracy: 0.5064\n",
      "Epoch 84/100\n",
      "250/250 [==============================] - 0s 2ms/step - loss: 0.7195 - accuracy: 0.5073\n",
      "Epoch 85/100\n",
      "250/250 [==============================] - 0s 2ms/step - loss: 0.7183 - accuracy: 0.5079\n",
      "Epoch 86/100\n",
      "250/250 [==============================] - 0s 1ms/step - loss: 0.7172 - accuracy: 0.5095\n",
      "Epoch 87/100\n",
      "250/250 [==============================] - 0s 1ms/step - loss: 0.7160 - accuracy: 0.5109\n",
      "Epoch 88/100\n",
      "250/250 [==============================] - 0s 1ms/step - loss: 0.7148 - accuracy: 0.5117\n",
      "Epoch 89/100\n",
      "250/250 [==============================] - 0s 2ms/step - loss: 0.7137 - accuracy: 0.5125\n",
      "Epoch 90/100\n",
      "250/250 [==============================] - 0s 2ms/step - loss: 0.7125 - accuracy: 0.5136\n",
      "Epoch 91/100\n",
      "250/250 [==============================] - 0s 2ms/step - loss: 0.7114 - accuracy: 0.5160\n",
      "Epoch 92/100\n",
      "250/250 [==============================] - 0s 2ms/step - loss: 0.7102 - accuracy: 0.5171\n",
      "Epoch 93/100\n",
      "250/250 [==============================] - 0s 2ms/step - loss: 0.7091 - accuracy: 0.5178\n",
      "Epoch 94/100\n",
      "250/250 [==============================] - 1s 2ms/step - loss: 0.7080 - accuracy: 0.5188\n",
      "Epoch 95/100\n",
      "250/250 [==============================] - 1s 3ms/step - loss: 0.7069 - accuracy: 0.5196\n",
      "Epoch 96/100\n",
      "250/250 [==============================] - 1s 3ms/step - loss: 0.7058 - accuracy: 0.5207\n",
      "Epoch 97/100\n",
      "250/250 [==============================] - 1s 2ms/step - loss: 0.7046 - accuracy: 0.5226\n",
      "Epoch 98/100\n",
      "250/250 [==============================] - 1s 2ms/step - loss: 0.7036 - accuracy: 0.5241\n",
      "Epoch 99/100\n",
      "250/250 [==============================] - 1s 2ms/step - loss: 0.7025 - accuracy: 0.5253\n",
      "Epoch 100/100\n",
      "250/250 [==============================] - 1s 2ms/step - loss: 0.7014 - accuracy: 0.5266\n"
     ]
    },
    {
     "data": {
      "text/plain": [
       "<keras.src.callbacks.History at 0x23548de4d50>"
      ]
     },
     "execution_count": 12,
     "metadata": {},
     "output_type": "execute_result"
    }
   ],
   "source": [
    "ann = Sequential()\n",
    "\n",
    "ann.add(Dense(units = 10, activation = 'relu'))\n",
    "ann.add(Dense(units = 1, activation = 'sigmoid'))\n",
    "\n",
    "ann.compile(optimizer = 'adadelta', loss = 'binary_crossentropy', metrics ='accuracy')\n",
    "\n",
    "ann.fit(xtrain,ytrain,epochs = 100)"
   ]
  },
  {
   "cell_type": "code",
   "execution_count": 13,
   "metadata": {
    "ExecuteTime": {
     "end_time": "2023-05-05T11:53:31.167972Z",
     "start_time": "2023-05-05T11:53:30.585386Z"
    },
    "colab": {
     "base_uri": "https://localhost:8080/"
    },
    "id": "qtZGUBArfbtc",
    "outputId": "837643de-48e7-4aa1-c672-192aa9c9b519"
   },
   "outputs": [
    {
     "name": "stdout",
     "output_type": "stream",
     "text": [
      "63/63 [==============================] - 0s 2ms/step\n"
     ]
    },
    {
     "data": {
      "text/plain": [
       "array([[ True],\n",
       "       [ True],\n",
       "       [ True],\n",
       "       ...,\n",
       "       [False],\n",
       "       [ True],\n",
       "       [False]])"
      ]
     },
     "execution_count": 13,
     "metadata": {},
     "output_type": "execute_result"
    }
   ],
   "source": [
    "ypred = ann.predict(xtest)\n",
    "ypred = ypred > 0.5\n",
    "ypred"
   ]
  },
  {
   "cell_type": "code",
   "execution_count": 14,
   "metadata": {
    "ExecuteTime": {
     "end_time": "2023-05-05T11:53:31.209526Z",
     "start_time": "2023-05-05T11:53:31.168251Z"
    },
    "colab": {
     "base_uri": "https://localhost:8080/"
    },
    "id": "NsUApwKQewCV",
    "outputId": "33930fb2-4c3b-4448-f5fc-7157f4291c0f"
   },
   "outputs": [
    {
     "name": "stdout",
     "output_type": "stream",
     "text": [
      "              precision    recall  f1-score   support\n",
      "\n",
      "           0       0.77      0.58      0.66      1585\n",
      "           1       0.18      0.35      0.24       415\n",
      "\n",
      "    accuracy                           0.53      2000\n",
      "   macro avg       0.48      0.47      0.45      2000\n",
      "weighted avg       0.65      0.53      0.58      2000\n",
      "\n"
     ]
    }
   ],
   "source": [
    "print(classification_report(ytest, ypred))"
   ]
  },
  {
   "cell_type": "code",
   "execution_count": 15,
   "metadata": {
    "ExecuteTime": {
     "end_time": "2023-05-05T11:53:32.049042Z",
     "start_time": "2023-05-05T11:53:31.214715Z"
    },
    "colab": {
     "base_uri": "https://localhost:8080/"
    },
    "id": "1IXGeS6-hiZR",
    "outputId": "e02ecfe2-cf1f-48e4-a692-0c2a01b5e398"
   },
   "outputs": [
    {
     "name": "stdout",
     "output_type": "stream",
     "text": [
      "250/250 [==============================] - 1s 2ms/step - loss: 0.7008 - accuracy: 0.5274\n"
     ]
    },
    {
     "data": {
      "text/plain": [
       "[0.7008104920387268, 0.5273749828338623]"
      ]
     },
     "execution_count": 15,
     "metadata": {},
     "output_type": "execute_result"
    }
   ],
   "source": [
    "ann.evaluate(xtrain,ytrain)"
   ]
  },
  {
   "cell_type": "markdown",
   "metadata": {
    "ExecuteTime": {
     "end_time": "2023-05-05T11:53:49.135387Z",
     "start_time": "2023-05-05T11:53:49.135387Z"
    },
    "id": "Oy-dYHzYh2g0"
   },
   "source": [
    "# Hyperparameter tuning\n"
   ]
  },
  {
   "cell_type": "code",
   "execution_count": 31,
   "metadata": {
    "colab": {
     "base_uri": "https://localhost:8080/"
    },
    "id": "bKXgN2jgziRx",
    "outputId": "3fa786c5-5c52-4ae4-c6c8-819e315665b0"
   },
   "outputs": [
    {
     "name": "stdout",
     "output_type": "stream",
     "text": [
      "Python\n",
      "Python\n",
      "Python\n",
      "Python\n",
      "Python\n",
      "Python\n",
      "Python\n",
      "Python\n",
      "Python\n",
      "Python\n",
      "Python\n",
      "Machine learning\n"
     ]
    }
   ],
   "source": [
    "counter = 0\n",
    "\n",
    "for i in range(0,11):\n",
    "  if counter == 0:\n",
    "    print('Python')\n",
    "else:\n",
    "    print('Machine learning')\n",
    "counter = counter+1"
   ]
  },
  {
   "cell_type": "code",
   "execution_count": 17,
   "metadata": {
    "colab": {
     "base_uri": "https://localhost:8080/"
    },
    "id": "LK_pBI-R1gco",
    "outputId": "a9848b9d-d775-4773-c078-f4c386623739"
   },
   "outputs": [
    {
     "data": {
      "text/plain": [
       "1"
      ]
     },
     "execution_count": 17,
     "metadata": {},
     "output_type": "execute_result"
    }
   ],
   "source": [
    "counter"
   ]
  },
  {
   "cell_type": "code",
   "execution_count": 18,
   "metadata": {
    "ExecuteTime": {
     "end_time": "2023-05-05T12:01:08.960848Z",
     "start_time": "2023-05-05T12:01:08.942912Z"
    },
    "id": "7nY8x27omEBB"
   },
   "outputs": [],
   "source": [
    "def hyper(hp):\n",
    "    model = Sequential()\n",
    "    counter = 0\n",
    "    for i in range(hp.Int('num_layers', min_value = 1,max_value=10)):\n",
    "        if counter ==0:\n",
    "            model.add(Dense(hp.Int('units'+str(i),min_value=8,max_value=128,step=8),\n",
    "                            activation = hp.Choice('activation'+str(i),values = ['relu','tanh','sigmoid']),\n",
    "                            input_dim = 13))\n",
    "    else:\n",
    "        model.add(Dense(\n",
    "              hp.Int('units'+str(i),min_value=8,max_value=128,step=8),\n",
    "              activation = hp.Choice('activation'+str(i),values = ['relu','tanh','sigmoid'])))\n",
    "    counter+=1\n",
    "    model.add(Dense(units = 1,activation='sigmoid'))\n",
    "    model.compile(optimizer = hp.Choice('optimizer',values = ['adam','rmsprop','sgd']),\n",
    "                loss = 'binary_crossentropy',metrics = 'accuracy')\n",
    "    return model"
   ]
  },
  {
   "cell_type": "code",
   "execution_count": 19,
   "metadata": {
    "ExecuteTime": {
     "end_time": "2023-05-05T12:01:11.175740Z",
     "start_time": "2023-05-05T12:01:11.034376Z"
    },
    "id": "bHdrC4qwncSM"
   },
   "outputs": [],
   "source": [
    "tuner = kf.RandomSearch(hyper,\n",
    "                        objective = 'val_accuracy',\n",
    "                        max_trials = 3)"
   ]
  },
  {
   "cell_type": "code",
   "execution_count": 20,
   "metadata": {
    "ExecuteTime": {
     "end_time": "2023-05-05T12:01:39.656836Z",
     "start_time": "2023-05-05T12:01:12.968759Z"
    },
    "colab": {
     "base_uri": "https://localhost:8080/"
    },
    "id": "9hsBmLrKnm4J",
    "outputId": "5c19156e-0ec7-411a-fd8f-c589231df135"
   },
   "outputs": [
    {
     "name": "stdout",
     "output_type": "stream",
     "text": [
      "Trial 3 Complete [00h 00m 06s]\n",
      "val_accuracy: 0.7925000190734863\n",
      "\n",
      "Best val_accuracy So Far: 0.8575000166893005\n",
      "Total elapsed time: 00h 00m 19s\n"
     ]
    }
   ],
   "source": [
    "tuner.search(xtrain,ytrain,epochs = 5, validation_data = (xtest,ytest))"
   ]
  },
  {
   "cell_type": "code",
   "execution_count": 21,
   "metadata": {
    "ExecuteTime": {
     "end_time": "2023-05-05T12:01:48.411956Z",
     "start_time": "2023-05-05T12:01:48.399193Z"
    },
    "colab": {
     "base_uri": "https://localhost:8080/"
    },
    "id": "iT_ecjdynri2",
    "outputId": "7227c7ab-c265-4d3a-d4ae-fc05fceb5cb5"
   },
   "outputs": [
    {
     "data": {
      "text/plain": [
       "{'num_layers': 6,\n",
       " 'units0': 48,\n",
       " 'activation0': 'tanh',\n",
       " 'optimizer': 'adam',\n",
       " 'units1': 24,\n",
       " 'activation1': 'relu',\n",
       " 'units2': 88,\n",
       " 'activation2': 'sigmoid',\n",
       " 'units3': 24,\n",
       " 'activation3': 'sigmoid',\n",
       " 'units4': 72,\n",
       " 'activation4': 'sigmoid',\n",
       " 'units5': 88,\n",
       " 'activation5': 'sigmoid',\n",
       " 'units6': 80,\n",
       " 'activation6': 'tanh',\n",
       " 'units7': 96,\n",
       " 'activation7': 'sigmoid',\n",
       " 'units8': 48,\n",
       " 'activation8': 'relu'}"
      ]
     },
     "execution_count": 21,
     "metadata": {},
     "output_type": "execute_result"
    }
   ],
   "source": [
    "tuner.get_best_hyperparameters()[0].values"
   ]
  },
  {
   "cell_type": "code",
   "execution_count": 22,
   "metadata": {
    "ExecuteTime": {
     "end_time": "2023-05-05T12:01:58.614414Z",
     "start_time": "2023-05-05T12:01:58.602171Z"
    },
    "colab": {
     "base_uri": "https://localhost:8080/"
    },
    "id": "stYbuGjWn8hI",
    "outputId": "d4ebcaad-dc3e-49d1-8550-f1c9009b2d9f"
   },
   "outputs": [
    {
     "data": {
      "text/plain": [
       "(10000, 14)"
      ]
     },
     "execution_count": 22,
     "metadata": {},
     "output_type": "execute_result"
    }
   ],
   "source": [
    "df.shape"
   ]
  },
  {
   "cell_type": "code",
   "execution_count": 23,
   "metadata": {
    "ExecuteTime": {
     "end_time": "2023-05-05T12:02:01.519233Z",
     "start_time": "2023-05-05T12:02:00.943225Z"
    },
    "id": "TYR-bgAbol6K"
   },
   "outputs": [],
   "source": [
    "tuned_model = tuner.get_best_models(num_models=1)[0]\n",
    "tuned_model.build(x.shape)"
   ]
  },
  {
   "cell_type": "code",
   "execution_count": 24,
   "metadata": {
    "ExecuteTime": {
     "end_time": "2023-05-05T12:02:03.059896Z",
     "start_time": "2023-05-05T12:02:03.026298Z"
    },
    "colab": {
     "base_uri": "https://localhost:8080/"
    },
    "id": "XMtlWIaPwKge",
    "outputId": "17f42a09-2b29-4a2c-c874-f6d4280abaeb"
   },
   "outputs": [
    {
     "name": "stdout",
     "output_type": "stream",
     "text": [
      "Model: \"sequential\"\n",
      "_________________________________________________________________\n",
      " Layer (type)                Output Shape              Param #   \n",
      "=================================================================\n",
      " dense (Dense)               (None, 48)                672       \n",
      "                                                                 \n",
      " dense_1 (Dense)             (None, 24)                1176      \n",
      "                                                                 \n",
      " dense_2 (Dense)             (None, 88)                2200      \n",
      "                                                                 \n",
      " dense_3 (Dense)             (None, 24)                2136      \n",
      "                                                                 \n",
      " dense_4 (Dense)             (None, 72)                1800      \n",
      "                                                                 \n",
      " dense_5 (Dense)             (None, 88)                6424      \n",
      "                                                                 \n",
      " dense_6 (Dense)             (None, 88)                7832      \n",
      "                                                                 \n",
      " dense_7 (Dense)             (None, 1)                 89        \n",
      "                                                                 \n",
      "=================================================================\n",
      "Total params: 22329 (87.22 KB)\n",
      "Trainable params: 22329 (87.22 KB)\n",
      "Non-trainable params: 0 (0.00 Byte)\n",
      "_________________________________________________________________\n"
     ]
    }
   ],
   "source": [
    "tuned_model.summary()"
   ]
  },
  {
   "cell_type": "code",
   "execution_count": 25,
   "metadata": {
    "ExecuteTime": {
     "end_time": "2023-05-05T12:03:06.658679Z",
     "start_time": "2023-05-05T12:02:06.384968Z"
    },
    "colab": {
     "base_uri": "https://localhost:8080/"
    },
    "id": "WG7iFm6fwKge",
    "outputId": "3fb3b6e2-2877-4702-8520-76b6e94638f1"
   },
   "outputs": [
    {
     "name": "stdout",
     "output_type": "stream",
     "text": [
      "Epoch 1/50\n",
      "250/250 [==============================] - 3s 4ms/step - loss: 0.3481 - accuracy: 0.8581 - val_loss: 0.3773 - val_accuracy: 0.8540\n",
      "Epoch 2/50\n",
      "250/250 [==============================] - 1s 2ms/step - loss: 0.3462 - accuracy: 0.8575 - val_loss: 0.3424 - val_accuracy: 0.8630\n",
      "Epoch 3/50\n",
      "250/250 [==============================] - 1s 2ms/step - loss: 0.3427 - accuracy: 0.8587 - val_loss: 0.3530 - val_accuracy: 0.8550\n",
      "Epoch 4/50\n",
      "250/250 [==============================] - 1s 2ms/step - loss: 0.3414 - accuracy: 0.8604 - val_loss: 0.3403 - val_accuracy: 0.8595\n",
      "Epoch 5/50\n",
      "250/250 [==============================] - 1s 3ms/step - loss: 0.3381 - accuracy: 0.8605 - val_loss: 0.3425 - val_accuracy: 0.8605\n",
      "Epoch 6/50\n",
      "250/250 [==============================] - 1s 3ms/step - loss: 0.3381 - accuracy: 0.8601 - val_loss: 0.3386 - val_accuracy: 0.8635\n",
      "Epoch 7/50\n",
      "250/250 [==============================] - 1s 3ms/step - loss: 0.3344 - accuracy: 0.8626 - val_loss: 0.3372 - val_accuracy: 0.8625\n",
      "Epoch 8/50\n",
      "250/250 [==============================] - 1s 4ms/step - loss: 0.3376 - accuracy: 0.8625 - val_loss: 0.3365 - val_accuracy: 0.8625\n",
      "Epoch 9/50\n",
      "250/250 [==============================] - 1s 4ms/step - loss: 0.3377 - accuracy: 0.8631 - val_loss: 0.3337 - val_accuracy: 0.8595\n",
      "Epoch 10/50\n",
      "250/250 [==============================] - 1s 3ms/step - loss: 0.3348 - accuracy: 0.8620 - val_loss: 0.3449 - val_accuracy: 0.8610\n",
      "Epoch 11/50\n",
      "250/250 [==============================] - 1s 3ms/step - loss: 0.3320 - accuracy: 0.8619 - val_loss: 0.3416 - val_accuracy: 0.8610\n",
      "Epoch 12/50\n",
      "250/250 [==============================] - 1s 3ms/step - loss: 0.3307 - accuracy: 0.8636 - val_loss: 0.3422 - val_accuracy: 0.8645\n",
      "Epoch 13/50\n",
      "250/250 [==============================] - 1s 3ms/step - loss: 0.3283 - accuracy: 0.8630 - val_loss: 0.3365 - val_accuracy: 0.8630\n",
      "Epoch 14/50\n",
      "250/250 [==============================] - 1s 3ms/step - loss: 0.3285 - accuracy: 0.8656 - val_loss: 0.3355 - val_accuracy: 0.8670\n",
      "Epoch 15/50\n",
      "250/250 [==============================] - 1s 3ms/step - loss: 0.3291 - accuracy: 0.8625 - val_loss: 0.3371 - val_accuracy: 0.8620\n",
      "Epoch 16/50\n",
      "250/250 [==============================] - 1s 4ms/step - loss: 0.3264 - accuracy: 0.8670 - val_loss: 0.3427 - val_accuracy: 0.8650\n",
      "Epoch 17/50\n",
      "250/250 [==============================] - 1s 3ms/step - loss: 0.3269 - accuracy: 0.8648 - val_loss: 0.3580 - val_accuracy: 0.8590\n",
      "Epoch 18/50\n",
      "250/250 [==============================] - 1s 4ms/step - loss: 0.3247 - accuracy: 0.8662 - val_loss: 0.3416 - val_accuracy: 0.8595\n",
      "Epoch 19/50\n",
      "250/250 [==============================] - 1s 4ms/step - loss: 0.3242 - accuracy: 0.8645 - val_loss: 0.3373 - val_accuracy: 0.8630\n",
      "Epoch 20/50\n",
      "250/250 [==============================] - 1s 3ms/step - loss: 0.3223 - accuracy: 0.8674 - val_loss: 0.3390 - val_accuracy: 0.8655\n",
      "Epoch 21/50\n",
      "250/250 [==============================] - 1s 4ms/step - loss: 0.3213 - accuracy: 0.8674 - val_loss: 0.3383 - val_accuracy: 0.8620\n",
      "Epoch 22/50\n",
      "250/250 [==============================] - 1s 3ms/step - loss: 0.3206 - accuracy: 0.8680 - val_loss: 0.3380 - val_accuracy: 0.8615\n",
      "Epoch 23/50\n",
      "250/250 [==============================] - 1s 3ms/step - loss: 0.3203 - accuracy: 0.8666 - val_loss: 0.3408 - val_accuracy: 0.8590\n",
      "Epoch 24/50\n",
      "250/250 [==============================] - 1s 2ms/step - loss: 0.3200 - accuracy: 0.8655 - val_loss: 0.3367 - val_accuracy: 0.8635\n",
      "Epoch 25/50\n",
      "250/250 [==============================] - 1s 3ms/step - loss: 0.3188 - accuracy: 0.8700 - val_loss: 0.3571 - val_accuracy: 0.8565\n",
      "Epoch 26/50\n",
      "250/250 [==============================] - 1s 3ms/step - loss: 0.3189 - accuracy: 0.8680 - val_loss: 0.3388 - val_accuracy: 0.8635\n",
      "Epoch 27/50\n",
      "250/250 [==============================] - 1s 3ms/step - loss: 0.3156 - accuracy: 0.8696 - val_loss: 0.3438 - val_accuracy: 0.8630\n",
      "Epoch 28/50\n",
      "250/250 [==============================] - 1s 3ms/step - loss: 0.3167 - accuracy: 0.8695 - val_loss: 0.3417 - val_accuracy: 0.8645\n",
      "Epoch 29/50\n",
      "250/250 [==============================] - 1s 3ms/step - loss: 0.3143 - accuracy: 0.8711 - val_loss: 0.3430 - val_accuracy: 0.8605\n",
      "Epoch 30/50\n",
      "250/250 [==============================] - 1s 3ms/step - loss: 0.3147 - accuracy: 0.8685 - val_loss: 0.3528 - val_accuracy: 0.8565\n",
      "Epoch 31/50\n",
      "250/250 [==============================] - 1s 3ms/step - loss: 0.3123 - accuracy: 0.8712 - val_loss: 0.3504 - val_accuracy: 0.8575\n",
      "Epoch 32/50\n",
      "250/250 [==============================] - 1s 3ms/step - loss: 0.3141 - accuracy: 0.8708 - val_loss: 0.3513 - val_accuracy: 0.8575\n",
      "Epoch 33/50\n",
      "250/250 [==============================] - 1s 4ms/step - loss: 0.3117 - accuracy: 0.8705 - val_loss: 0.3505 - val_accuracy: 0.8555\n",
      "Epoch 34/50\n",
      "250/250 [==============================] - 1s 3ms/step - loss: 0.3095 - accuracy: 0.8731 - val_loss: 0.3513 - val_accuracy: 0.8545\n",
      "Epoch 35/50\n",
      "250/250 [==============================] - 1s 3ms/step - loss: 0.3096 - accuracy: 0.8712 - val_loss: 0.3477 - val_accuracy: 0.8575\n",
      "Epoch 36/50\n",
      "250/250 [==============================] - 1s 3ms/step - loss: 0.3080 - accuracy: 0.8700 - val_loss: 0.3487 - val_accuracy: 0.8575\n",
      "Epoch 37/50\n",
      "250/250 [==============================] - 1s 3ms/step - loss: 0.3050 - accuracy: 0.8712 - val_loss: 0.3572 - val_accuracy: 0.8590\n",
      "Epoch 38/50\n",
      "250/250 [==============================] - 1s 3ms/step - loss: 0.3083 - accuracy: 0.8746 - val_loss: 0.3484 - val_accuracy: 0.8580\n",
      "Epoch 39/50\n",
      "250/250 [==============================] - 1s 3ms/step - loss: 0.3030 - accuracy: 0.8764 - val_loss: 0.3621 - val_accuracy: 0.8565\n",
      "Epoch 40/50\n",
      "250/250 [==============================] - 1s 4ms/step - loss: 0.3053 - accuracy: 0.8741 - val_loss: 0.3521 - val_accuracy: 0.8570\n",
      "Epoch 41/50\n",
      "250/250 [==============================] - 1s 3ms/step - loss: 0.3028 - accuracy: 0.8751 - val_loss: 0.3553 - val_accuracy: 0.8605\n",
      "Epoch 42/50\n",
      "250/250 [==============================] - 1s 4ms/step - loss: 0.3025 - accuracy: 0.8754 - val_loss: 0.3558 - val_accuracy: 0.8580\n",
      "Epoch 43/50\n",
      "250/250 [==============================] - 1s 3ms/step - loss: 0.3026 - accuracy: 0.8763 - val_loss: 0.3577 - val_accuracy: 0.8565\n",
      "Epoch 44/50\n",
      "250/250 [==============================] - 1s 2ms/step - loss: 0.3004 - accuracy: 0.8758 - val_loss: 0.3552 - val_accuracy: 0.8605\n",
      "Epoch 45/50\n",
      "250/250 [==============================] - 1s 2ms/step - loss: 0.2987 - accuracy: 0.8763 - val_loss: 0.3657 - val_accuracy: 0.8545\n",
      "Epoch 46/50\n",
      "250/250 [==============================] - 1s 2ms/step - loss: 0.2985 - accuracy: 0.8780 - val_loss: 0.3627 - val_accuracy: 0.8545\n",
      "Epoch 47/50\n",
      "250/250 [==============================] - 1s 3ms/step - loss: 0.2969 - accuracy: 0.8773 - val_loss: 0.3674 - val_accuracy: 0.8540\n",
      "Epoch 48/50\n",
      "250/250 [==============================] - 1s 3ms/step - loss: 0.2979 - accuracy: 0.8756 - val_loss: 0.3663 - val_accuracy: 0.8500\n",
      "Epoch 49/50\n",
      "250/250 [==============================] - 1s 3ms/step - loss: 0.2952 - accuracy: 0.8750 - val_loss: 0.3735 - val_accuracy: 0.8585\n",
      "Epoch 50/50\n",
      "250/250 [==============================] - 1s 3ms/step - loss: 0.2953 - accuracy: 0.8760 - val_loss: 0.3727 - val_accuracy: 0.8505\n"
     ]
    },
    {
     "data": {
      "text/plain": [
       "<keras.src.callbacks.History at 0x2354a034f50>"
      ]
     },
     "execution_count": 25,
     "metadata": {},
     "output_type": "execute_result"
    }
   ],
   "source": [
    "tuned_model.fit(xtrain,ytrain,epochs=50, validation_data=(xtest,ytest))"
   ]
  },
  {
   "cell_type": "code",
   "execution_count": 26,
   "metadata": {
    "ExecuteTime": {
     "end_time": "2023-05-05T12:03:14.607142Z",
     "start_time": "2023-05-05T12:03:13.739524Z"
    },
    "colab": {
     "base_uri": "https://localhost:8080/"
    },
    "id": "KQQ6Wc8UwKgf",
    "outputId": "3afe2a36-cf8c-4d27-e053-8092ef4ae51f"
   },
   "outputs": [
    {
     "name": "stdout",
     "output_type": "stream",
     "text": [
      "250/250 [==============================] - 1s 2ms/step - loss: 0.2951 - accuracy: 0.8767\n"
     ]
    },
    {
     "data": {
      "text/plain": [
       "[0.29505211114883423, 0.8767499923706055]"
      ]
     },
     "execution_count": 26,
     "metadata": {},
     "output_type": "execute_result"
    }
   ],
   "source": [
    "tuned_model.evaluate(xtrain,ytrain)"
   ]
  },
  {
   "cell_type": "code",
   "execution_count": 27,
   "metadata": {
    "colab": {
     "base_uri": "https://localhost:8080/"
    },
    "id": "6pe7oqF-wKgf",
    "outputId": "08b2fbfb-acd0-4d2d-f84c-9c386c807b10"
   },
   "outputs": [
    {
     "name": "stdout",
     "output_type": "stream",
     "text": [
      "63/63 [==============================] - 0s 3ms/step - loss: 0.3727 - accuracy: 0.8505\n"
     ]
    },
    {
     "data": {
      "text/plain": [
       "[0.37267452478408813, 0.8504999876022339]"
      ]
     },
     "execution_count": 27,
     "metadata": {},
     "output_type": "execute_result"
    }
   ],
   "source": [
    "tuned_model.evaluate(xtest,ytest)"
   ]
  },
  {
   "cell_type": "code",
   "execution_count": null,
   "metadata": {
    "id": "CJEwmXte2mTT"
   },
   "outputs": [],
   "source": []
  }
 ],
 "metadata": {
  "colab": {
   "provenance": []
  },
  "kernelspec": {
   "display_name": "Python 3 (ipykernel)",
   "language": "python",
   "name": "python3"
  },
  "language_info": {
   "codemirror_mode": {
    "name": "ipython",
    "version": 3
   },
   "file_extension": ".py",
   "mimetype": "text/x-python",
   "name": "python",
   "nbconvert_exporter": "python",
   "pygments_lexer": "ipython3",
   "version": "3.11.3"
  }
 },
 "nbformat": 4,
 "nbformat_minor": 1
}
